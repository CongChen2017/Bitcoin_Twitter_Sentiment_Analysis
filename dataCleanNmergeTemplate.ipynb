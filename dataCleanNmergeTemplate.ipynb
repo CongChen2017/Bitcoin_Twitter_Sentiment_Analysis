{
 "cells": [
  {
   "cell_type": "code",
   "execution_count": 1,
   "metadata": {
    "collapsed": true
   },
   "outputs": [],
   "source": [
    "# Dependencies\n",
    "import numpy as np\n",
    "import pandas as pd\n",
    "from datetime import datetime\n",
    "import time\n",
    "import glob\n",
    "import quandl\n",
    "import os"
   ]
  },
  {
   "cell_type": "code",
   "execution_count": 2,
   "metadata": {
    "collapsed": true
   },
   "outputs": [],
   "source": [
    "# define a function to read and handle bitcoin price data frame\n",
    "def generate_BTC_Price_df():\n",
    "    \n",
    "    # read in bitcoin price file\n",
    "    coin = pd.read_csv(\"bitcoinPrice.csv\", index_col = 0)\n",
    "    \n",
    "    # convert date info from string to datetime.date object\n",
    "    Converted_date = []\n",
    "    for i in range(len(coin)):\n",
    "        date = datetime.date(datetime.strptime(coin[\"Date\"][i], '%Y-%m-%d'))\n",
    "        Converted_date.append(date)\n",
    "    coin[\"Converted_Date\"] = Converted_date\n",
    "    \n",
    "    # adjust the data frame: leave two columns - Converted_date & BTC_Price\n",
    "    coin.drop(labels=\"Date\", axis=1, inplace=True)\n",
    "    coin = coin[['Converted_Date', 'Close']]\n",
    "    coin = coin.rename(columns={'Close': 'BTC_Price'})\n",
    "    \n",
    "    return coin"
   ]
  },
  {
   "cell_type": "code",
   "execution_count": 3,
   "metadata": {
    "collapsed": true
   },
   "outputs": [],
   "source": [
    "# define a function to read in single CSV file, clean, groupby\n",
    "def single_CSV_clean(filename):\n",
    "    \n",
    "    # read in csv file\n",
    "    df = pd.read_csv(filename, index_col = 0)\n",
    "    \n",
    "    # clean up data frame\n",
    "    mask = df['Tweet Date'].apply(lambda x: len(str(x)) == 30)\n",
    "    mask1 = df['Language'] == 'en'\n",
    "    mask2 = df['Compound'].notnull()\n",
    "    df = df[mask&mask1&mask2]\n",
    "    \n",
    "    # convert Tweet Date to datetime.date object and add to new column\n",
    "    timelist = []\n",
    "    for tweet_date in df['Tweet Date']: \n",
    "        tweet_datetime = datetime.date(pd.to_datetime(tweet_date))\n",
    "        timelist.append(tweet_datetime)\n",
    "    df['Converted_Date'] = timelist\n",
    "    \n",
    "    # generate new data frame after groupby & calculation\n",
    "    cleaned_df = df.groupby('Converted_Date').agg({\"Text\": \"count\", \"Compound\" : \"mean\"})\n",
    "    cleaned_df.reset_index(inplace=True)\n",
    "    \n",
    "    # split to Tweets data frame and Compound data frame, prepare for merge\n",
    "    Tweet_df = cleaned_df.drop(labels=\"Compound\", axis=1)\n",
    "    Tweet_df.columns = [[\"Converted_Date\", df[\"Account Name\"][0]]]\n",
    "    compound_df = cleaned_df.drop(labels=\"Text\", axis=1)\n",
    "    compound_df.columns = [[\"Converted_Date\", df[\"Account Name\"][0]]]\n",
    "    \n",
    "    return Tweet_df, compound_df"
   ]
  },
  {
   "cell_type": "code",
   "execution_count": 4,
   "metadata": {
    "collapsed": true
   },
   "outputs": [],
   "source": [
    "# define a function to handle multiple CSV files in a same folder, and finish merge\n",
    "def generate_merged_tables(folder, coin_df):\n",
    "    \n",
    "    # define file path\n",
    "    csvpath = os.path.join(folder, '*.csv')\n",
    "    \n",
    "    # generate CSV file list\n",
    "    file_list = glob.glob(csvpath)\n",
    "    \n",
    "    # initiate merged data frame using bitcoin data frame\n",
    "    merged_tweet_df = coin_df\n",
    "    merged_compound_df = coin_df\n",
    "    \n",
    "    # loop through csv files, extract info and merge with bitcoin info\n",
    "    for file in file_list:\n",
    "        Tweet_df, compound_df = single_CSV_clean(file)\n",
    "        merged_tweet_df = pd.merge(merged_tweet_df, Tweet_df, on=\"Converted_Date\", how=\"outer\")\n",
    "        merged_compound_df = pd.merge(merged_compound_df, compound_df, on=\"Converted_Date\", how=\"outer\")\n",
    "    \n",
    "    # save two merged files\n",
    "    merged_tweet_df.to_csv(\"merged_tweet_file.csv\")\n",
    "    merged_compound_df.to_csv(\"merged_compound_file.csv\")"
   ]
  },
  {
   "cell_type": "code",
   "execution_count": 6,
   "metadata": {
    "collapsed": true
   },
   "outputs": [],
   "source": [
    "coin_df = generate_BTC_Price_df()\n",
    "generate_merged_tables(\"CSVfiles-individual\", coin_df)"
   ]
  },
  {
   "cell_type": "code",
   "execution_count": null,
   "metadata": {
    "collapsed": true
   },
   "outputs": [],
   "source": []
  }
 ],
 "metadata": {
  "kernelspec": {
   "display_name": "Python 3",
   "language": "python",
   "name": "python3"
  },
  "language_info": {
   "codemirror_mode": {
    "name": "ipython",
    "version": 3
   },
   "file_extension": ".py",
   "mimetype": "text/x-python",
   "name": "python",
   "nbconvert_exporter": "python",
   "pygments_lexer": "ipython3",
   "version": "3.6.1"
  }
 },
 "nbformat": 4,
 "nbformat_minor": 2
}
