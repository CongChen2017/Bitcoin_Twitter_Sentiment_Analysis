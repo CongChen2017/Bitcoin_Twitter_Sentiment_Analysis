{
 "cells": [
  {
   "cell_type": "markdown",
   "metadata": {},
   "source": [
    "## With dependencies, keys loaded and function defined, all we need is to call the function while give it the target_user (account) and page number\n",
    "### What we will get is: 1) print out to notebook telling how many tweets pulled and what time period covers; 2) a named CSV file generated in your work directory\n",
    "### Remember to modify this template and use your own Twitter API keys, because the information is not there. For each Twitter account, we can play around with the page number and see whether we can pull more tweets."
   ]
  },
  {
   "cell_type": "code",
   "execution_count": 1,
   "metadata": {
    "collapsed": true
   },
   "outputs": [],
   "source": [
    "# Dependencies\n",
    "import tweepy\n",
    "import numpy as np\n",
    "import pandas as pd\n",
    "from datetime import datetime\n",
    "import time\n",
    "\n",
    "from pprint import pprint"
   ]
  },
  {
   "cell_type": "code",
   "execution_count": 2,
   "metadata": {
    "collapsed": true
   },
   "outputs": [],
   "source": [
    "# Import and Initialize Sentiment Analyzer\n",
    "from vaderSentiment.vaderSentiment import SentimentIntensityAnalyzer\n",
    "analyzer = SentimentIntensityAnalyzer()\n",
    "\n",
    "# Twitter API Keys\n",
    "from TwitterbotKeys import *\n",
    "\n",
    "# Setup Tweepy API Authentication\n",
    "auth = tweepy.OAuthHandler(consumer_key, consumer_secret)\n",
    "auth.set_access_token(access_token, access_token_secret)\n",
    "api = tweepy.API(auth, parser=tweepy.parsers.JSONParser())"
   ]
  },
  {
   "cell_type": "code",
   "execution_count": 1,
   "metadata": {
    "collapsed": true
   },
   "outputs": [],
   "source": [
    "# define a function to pull data from twitter account and generate CSV file\n",
    "def pull_tweets_to_csv(target_user, pages):\n",
    "    \n",
    "    # part1: get as many tweets as we can\n",
    "    tweets_list = []\n",
    "    for x in range(pages):\n",
    "        response = api.user_timeline(target_user, page=x)\n",
    "        for tweet in response:\n",
    "            tweets_list.append(tweet)\n",
    "    print(f\"We have {len(tweets_list)} tweets from account: {target_user}.\")\n",
    "    start = datetime.strptime(tweets_list[0]['created_at'], \"%a %b %d %H:%M:%S %z %Y\")\n",
    "    end = datetime.strptime(tweets_list[len(tweets_list)-1]['created_at'], \"%a %b %d %H:%M:%S %z %Y\")\n",
    "    recent_date = f\"{start.year}{start.month}{start.day}\"\n",
    "    oldest_date = f\"{end.year}{end.month}{end.day}\"\n",
    "    print(f\"Those tweets from {oldest_date} to {recent_date}.\")\n",
    "    \n",
    "    # part2: extract data from pulled tweets and generate lists for next\n",
    "    Acc_name = []\n",
    "    Tweet_date = []\n",
    "    Tweet_id = []\n",
    "    Text = []\n",
    "    Favor_count = []\n",
    "    Retweet_count = []\n",
    "    Lan = []\n",
    "    Acc_date = []\n",
    "    followers_count = []\n",
    "    Acc_location = []\n",
    "    \n",
    "    for tweet in tweets_list:\n",
    "        Acc_name.append(tweet['user']['screen_name'])\n",
    "        Tweet_date.append(tweet['created_at'])\n",
    "        Tweet_id.append(tweet['id_str'])\n",
    "        Text.append(tweet['text'])\n",
    "        Favor_count.append(tweet['favorite_count'])\n",
    "        Retweet_count.append(tweet['retweet_count'])\n",
    "        Lan.append(tweet['lang'])\n",
    "        Acc_date.append(tweet['user']['created_at'])\n",
    "        followers_count.append(tweet['user']['followers_count'])\n",
    "        Acc_location.append(tweet['user']['location'])\n",
    "    \n",
    "    # part3: generate data frame\n",
    "    df = pd.DataFrame({\n",
    "        \"Account Name\": Acc_name,\n",
    "        \"Tweet Date\": Tweet_date,\n",
    "        \"Tweet ID\": Tweet_id,\n",
    "        \"Text\": Text,\n",
    "        \"Favorite Count\": Favor_count,\n",
    "        \"Retweet Count\": Retweet_count,\n",
    "        \"Language\": Lan,\n",
    "        \"Account Created Date\": Acc_date,\n",
    "        \"Followers Count\": followers_count,\n",
    "        \"Account Location\": Acc_location\n",
    "    })\n",
    "    df=df[[\"Account Name\", \"Tweet Date\", \"Tweet ID\", \"Text\", \"Favorite Count\", \"Retweet Count\", \"Language\", \n",
    "       \"Account Created Date\", \"Followers Count\", \"Account Location\"]]\n",
    "    \n",
    "    # part4: sentiment analysis and add results to data frame\n",
    "    df[\"Compound\"] = \"\"\n",
    "    df[\"Positive\"] = \"\"\n",
    "    df[\"Negative\"] = \"\"\n",
    "    df[\"Neutral\"] = \"\"\n",
    "    for index, row in df.iterrows():\n",
    "        results = analyzer.polarity_scores(row[\"Text\"])\n",
    "        df.set_value(index, 'Compound', results['compound'])\n",
    "        df.set_value(index, 'Positive', results['pos'])\n",
    "        df.set_value(index, 'Negative', results['neg'])\n",
    "        df.set_value(index, 'Neutral', results['neu'])\n",
    "    \n",
    "    # part5: save data to CSV file\n",
    "    filename = f\"{oldest_date}-{recent_date}-{target_user}.csv\"\n",
    "    df.to_csv(filename)\n"
   ]
  },
  {
   "cell_type": "code",
   "execution_count": 6,
   "metadata": {},
   "outputs": [
    {
     "name": "stdout",
     "output_type": "stream",
     "text": [
      "We have 750 tweets from account: @Coinsquare.\n",
      "Those tweets from 2014417 to 2018315.\n"
     ]
    }
   ],
   "source": [
    "target_user = \"@Coinsquare\"\n",
    "pages = 50\n",
    "pull_tweets_to_csv(target_user, pages)"
   ]
  },
  {
   "cell_type": "code",
   "execution_count": null,
   "metadata": {
    "collapsed": true
   },
   "outputs": [],
   "source": []
  }
 ],
 "metadata": {
  "kernelspec": {
   "display_name": "Python 3",
   "language": "python",
   "name": "python3"
  },
  "language_info": {
   "codemirror_mode": {
    "name": "ipython",
    "version": 3
   },
   "file_extension": ".py",
   "mimetype": "text/x-python",
   "name": "python",
   "nbconvert_exporter": "python",
   "pygments_lexer": "ipython3",
   "version": "3.6.1"
  }
 },
 "nbformat": 4,
 "nbformat_minor": 2
}
