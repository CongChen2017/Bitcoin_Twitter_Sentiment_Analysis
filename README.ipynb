{
 "cells": [
  {
   "cell_type": "markdown",
   "metadata": {},
   "source": [
    "# Bitcoin_Twitter_Sentiment_Analysis\n",
    "\n",
    "40+ organization (exchange) Twitter accounts & 30+ individual accounts picked and analyzed seperately.\n",
    "\n",
    "Several template files developed for this project:\n",
    "- Twitter data pulling (tweets_pull_template.ipynb);\n",
    "- Twitter account evaluation (EvaluateTwitterAccountTemplate.ipynb);\n",
    "- Data cleaning & merge (dataCleanNmergeTemplate.ipynb);\n",
    "- Data visualization (VisualizationTemplate.ipynb);\n",
    "- Bitcoin price info pulling (Bitcoin_Price_file.ipynb).\n",
    "\n",
    "CSV files and image (.png) files generated after analysis. And all image files saved in \"Analysis for -- Accounts\" folders.\n",
    "\n",
    "Rolling correlation analysis method applied to tweets count and sentiment analysis results (after aggregation of multiple accounts) vs bitcoin price trend.\n",
    "\n",
    "Correlation betweetn sentiment analysis results and bitcoin price can't be established.\n",
    "\n",
    "However, the tweet counts showed strong positive correlation with bitcoin price for last 6 months (Sep 2017 to Mar 2018). The figures are listed below:\n",
    "\n",
    "![Alt text](/Analysis_for_Organization_Accounts/Tweet_Count_org04.png?raw=true \"Title\")\n",
    "\n",
    "![Alt text](/Analysis_for_Organization_Accounts/Tweet_Count_org04b.png?raw=true \"Title\")"
   ]
  },
  {
   "cell_type": "code",
   "execution_count": null,
   "metadata": {
    "collapsed": true
   },
   "outputs": [],
   "source": []
  }
 ],
 "metadata": {
  "kernelspec": {
   "display_name": "Python 3",
   "language": "python",
   "name": "python3"
  },
  "language_info": {
   "codemirror_mode": {
    "name": "ipython",
    "version": 3
   },
   "file_extension": ".py",
   "mimetype": "text/x-python",
   "name": "python",
   "nbconvert_exporter": "python",
   "pygments_lexer": "ipython3",
   "version": "3.6.1"
  }
 },
 "nbformat": 4,
 "nbformat_minor": 2
}
