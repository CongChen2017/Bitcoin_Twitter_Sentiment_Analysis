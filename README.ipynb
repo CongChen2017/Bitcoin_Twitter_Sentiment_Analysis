{
 "cells": [
  {
   "cell_type": "markdown",
   "metadata": {},
   "source": [
    "# Bitcoin_Twitter_Sentiment_Analysis\n",
    "\n",
    "40+ organization (exchange) Twitter accounts & 30+ individual accounts picked and analyzed seperately.\n",
    "\n",
    "Several template files developed for this project:\n",
    "- Twitter data pulling;\n",
    "- Twitter account evaluation;\n",
    "- Data cleaning & merge;\n",
    "- Data visualization;\n",
    "- Bitcoin price info pulling.\n",
    "\n",
    "CSV files and image (.png) files generated after analysis.\n",
    "\n",
    "Rolling correlation analysis method applied to tweets count and sentiment analysis results (after aggregation of multiple accounts) vs bitcoin price trend.\n"
   ]
  },
  {
   "cell_type": "code",
   "execution_count": null,
   "metadata": {
    "collapsed": true
   },
   "outputs": [],
   "source": []
  }
 ],
 "metadata": {
  "kernelspec": {
   "display_name": "Python 3",
   "language": "python",
   "name": "python3"
  },
  "language_info": {
   "codemirror_mode": {
    "name": "ipython",
    "version": 3
   },
   "file_extension": ".py",
   "mimetype": "text/x-python",
   "name": "python",
   "nbconvert_exporter": "python",
   "pygments_lexer": "ipython3",
   "version": "3.6.1"
  }
 },
 "nbformat": 4,
 "nbformat_minor": 2
}
